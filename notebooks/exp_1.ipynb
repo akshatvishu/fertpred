{
 "cells": [
  {
   "cell_type": "code",
   "execution_count": 1,
   "id": "a954ea4b",
   "metadata": {},
   "outputs": [],
   "source": [
    "import pandas as pd\n",
    "import numpy as np\n",
    "import lightgbm as lgb\n",
    "import xgboost as xgb\n",
    "from catboost import CatBoostClassifier\n",
    "import joblib\n",
    "import warnings\n",
    "from sklearn.model_selection import StratifiedKFold\n",
    "from sklearn.preprocessing import LabelEncoder, StandardScaler\n",
    "from sklearn.metrics import log_loss, accuracy_score\n",
    "from itertools import combinations\n",
    "import matplotlib.pyplot as plt\n",
    "import seaborn as sns\n"
   ]
  },
  {
   "cell_type": "code",
   "execution_count": 2,
   "id": "aab3a670",
   "metadata": {},
   "outputs": [
    {
     "name": "stderr",
     "output_type": "stream",
     "text": [
      "\u001b[34m\u001b[1mwandb\u001b[0m: Logging into wandb.ai. (Learn how to deploy a W&B server locally: https://wandb.me/wandb-server)\n",
      "\u001b[34m\u001b[1mwandb\u001b[0m: You can find your API key in your browser here: https://wandb.ai/authorize\n",
      "\u001b[34m\u001b[1mwandb\u001b[0m: Paste an API key from your profile and hit enter:\u001b[34m\u001b[1mwandb\u001b[0m: Paste an API key from your profile and hit enter:\u001b[34m\u001b[1mwandb\u001b[0m: \u001b[33mWARNING\u001b[0m If you're specifying your api key in code, ensure this code is not shared publicly.\n",
      "\u001b[34m\u001b[1mwandb\u001b[0m: \u001b[33mWARNING\u001b[0m Consider setting the WANDB_API_KEY environment variable, or running `wandb login` from the command line.\n",
      "\u001b[34m\u001b[1mwandb\u001b[0m: No netrc file found, creating one.\n",
      "\u001b[34m\u001b[1mwandb\u001b[0m: Appending key for api.wandb.ai to your netrc file: /home/aja/.netrc\n",
      "\u001b[34m\u001b[1mwandb\u001b[0m: W&B API key is configured. Use \u001b[1m`wandb login --relogin`\u001b[0m to force relogin\n"
     ]
    },
    {
     "data": {
      "text/plain": [
       "True"
      ]
     },
     "execution_count": 2,
     "metadata": {},
     "output_type": "execute_result"
    }
   ],
   "source": [
    "import wandb\n",
    "wandb.login()"
   ]
  },
  {
   "cell_type": "code",
   "execution_count": 3,
   "id": "b2b2da4c",
   "metadata": {},
   "outputs": [],
   "source": [
    "# Suppress warnings for cleaner output\n",
    "warnings.filterwarnings('ignore')\n"
   ]
  },
  {
   "cell_type": "code",
   "execution_count": null,
   "id": "7951ef27",
   "metadata": {},
   "outputs": [],
   "source": []
  },
  {
   "cell_type": "code",
   "execution_count": null,
   "id": "864acc47",
   "metadata": {},
   "outputs": [],
   "source": [
    "class CFG:\n",
    "    # --- File Paths ---\n",
    "    data_path = os.path.abspath(os.path.join(os.getcwd(), '..', 'data'))\n",
    "    TRAIN_PATH = os.path.join(data_path, 'train.csv')  # Path to your training data\n",
    "    TEST_PATH = os.path.join(data_path, 'test.csv')    # Path to your test data\n",
    "    \n",
    "    # --- Model Settings ---\n",
    "    N_SPLITS = 5              # Number of CV folds\n",
    "    SEED = 3407               #  Karpathy \n",
    "    TARGET_COL = 'Fertilizer Name'\n",
    "    \n",
    "    # --- Experiment Tracking ---\n",
    "    PROJECT_NAME = 'fertilizer-prediction'\n",
    "    EXPERIMENT_NAME = 'starter_24_6_2025'\n",
    "    \n",
    "    # --- Model Selection ---\n",
    "    USE_LIGHTGBM = True       # model_1\n",
    "    USE_XGBOOST = True        # model_2  \n",
    "    USE_CATBOOST = True       # model_3\n",
    "    \n",
    "    # --- Feature Engineering ---\n",
    "    USE_TARGET_ENCODING = True\n",
    "    USE_ADVANCED_FEATURES = True\n",
    "    USE_INTERACTION_FEATURES = True"
   ]
  },
  {
   "cell_type": "code",
   "execution_count": null,
   "id": "4ff814ef",
   "metadata": {},
   "outputs": [],
   "source": [
    "def mapk(actual, predicted, k=3):\n",
    "    def apk(a, p, k):\n",
    "        p = p[:k]\n",
    "        score = 0.0\n",
    "        hits = 0\n",
    "        seen = set()\n",
    "        for i, pred in enumerate(p):\n",
    "            if pred in a and pred not in seen:\n",
    "                hits += 1\n",
    "                score += hits / (i + 1.0)\n",
    "                seen.add(pred)\n",
    "        return score / min(len(a), k)\n",
    "    return np.mean([apk(a, p, k) for a, p in zip(actual, predicted)])"
   ]
  },
  {
   "cell_type": "code",
   "execution_count": null,
   "id": "9aeb9a45",
   "metadata": {},
   "outputs": [],
   "source": [
    "I wan"
   ]
  },
  {
   "cell_type": "code",
   "execution_count": null,
   "id": "5c79e58a",
   "metadata": {},
   "outputs": [],
   "source": [
    "def create_advanced_features(df):\n",
    "    \"\"\"Create domain-specific agricultural features\"\"\"\n",
    "    df_copy = df.copy()\n",
    "    \n",
    "    # --- Environmental Stress Indicators ---\n",
    "    df_copy['temp_stress'] = ((df_copy['Temparature'] < 15) | (df_copy['Temparature'] > 35)).astype(int)\n",
    "    df_copy['moisture_stress'] = (df_copy['Moisture'] < 30).astype(int)\n",
    "    df_copy['humidity_stress'] = ((df_copy['Humidity'] < 40) | (df_copy['Humidity'] > 80)).astype(int)\n",
    "    \n",
    "    # --- Soil Drainage Categories ---\n",
    "    drainage_map = {\n",
    "        'Sandy': 'high_drainage',\n",
    "        'Loamy': 'medium_drainage', \n",
    "        'Black': 'low_drainage',\n",
    "        'Red': 'medium_drainage',\n",
    "        'Clayey': 'low_drainage'\n",
    "    }\n",
    "    df_copy['drainage_category'] = df_copy['Soil Type'].map(drainage_map)\n",
    "    \n",
    "    # --- Crop Categories (based on nutrient needs) ---\n",
    "    heavy_feeders = ['Sugarcane', 'Cotton', 'Maize', 'Wheat']\n",
    "    light_feeders = ['Pulses', 'Groundnut']\n",
    "    \n",
    "    df_copy['crop_nutrient_demand'] = df_copy['Crop Type'].apply(\n",
    "        lambda x: 'heavy_feeder' if x in heavy_feeders \n",
    "        else 'light_feeder' if x in light_feeders \n",
    "        else 'medium_feeder'\n",
    "    )\n",
    "    \n",
    "    # --- pH Suitability (estimated) ---\n",
    "    # Different crops prefer different pH ranges\n",
    "    df_copy['ph_suitability'] = 1.0  # Default\n",
    "    \n",
    "    # --- Leaching Risk ---\n",
    "    df_copy['leaching_risk'] = (\n",
    "        (df_copy['Soil Type'] == 'Sandy') & \n",
    "        (df_copy['Moisture'] > 60)\n",
    "    ).astype(int)\n",
    "    \n",
    "    # --- Nutrient Efficiency Ratios ---\n",
    "    df_copy['N_efficiency'] = df_copy['Nitrogen'] / (df_copy['Temparature'] + df_copy['Humidity'] + 1)\n",
    "    df_copy['P_efficiency'] = df_copy['Phosphorous'] / (df_copy['Moisture'] + 1)\n",
    "    df_copy['K_efficiency'] = df_copy['Potassium'] / (df_copy['Temparature'] + 1)\n",
    "    \n",
    "    return df_copy"
   ]
  },
  {
   "cell_type": "code",
   "execution_count": null,
   "id": "fa848c38",
   "metadata": {},
   "outputs": [],
   "source": [
    "\n",
    "def create_interaction_features(df):\n",
    "    \"\"\"Create interaction features between environmental and soil factors\"\"\"\n",
    "    df_copy = df.copy()\n",
    "    \n",
    "    # --- Environmental Interactions ---\n",
    "    df_copy['temp_humidity'] = df_copy['Temparature'] * df_copy['Humidity']\n",
    "    df_copy['temp_moisture'] = df_copy['Temparature'] * df_copy['Moisture']\n",
    "    df_copy['humidity_moisture'] = df_copy['Humidity'] * df_copy['Moisture']\n",
    "    \n",
    "    # --- Nutrient-Environment Interactions ---\n",
    "    df_copy['N_temp'] = df_copy['Nitrogen'] * df_copy['Temparature']\n",
    "    df_copy['P_moisture'] = df_copy['Phosphorous'] * df_copy['Moisture']\n",
    "    df_copy['K_humidity'] = df_copy['Potassium'] * df_copy['Humidity']\n",
    "    \n",
    "    # --- Complex Interactions ---\n",
    "    df_copy['growing_conditions'] = (\n",
    "        df_copy['Temparature'] * df_copy['Moisture'] * df_copy['Humidity']\n",
    "    ) / 1000  # Scale down\n",
    "    \n",
    "    return df_copy"
   ]
  },
  {
   "cell_type": "code",
   "execution_count": null,
   "id": "92fa4609",
   "metadata": {},
   "outputs": [],
   "source": []
  }
 ],
 "metadata": {
  "kernelspec": {
   "display_name": "Python (fertpred)",
   "language": "python",
   "name": "fertpred-env"
  },
  "language_info": {
   "codemirror_mode": {
    "name": "ipython",
    "version": 3
   },
   "file_extension": ".py",
   "mimetype": "text/x-python",
   "name": "python",
   "nbconvert_exporter": "python",
   "pygments_lexer": "ipython3",
   "version": "3.11.13"
  }
 },
 "nbformat": 4,
 "nbformat_minor": 5
}
